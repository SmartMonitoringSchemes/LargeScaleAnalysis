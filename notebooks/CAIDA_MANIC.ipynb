{
 "cells": [
  {
   "cell_type": "code",
   "execution_count": null,
   "metadata": {},
   "outputs": [],
   "source": [
    "using CSV\n",
    "using DataFrames\n",
    "using DataStructures\n",
    "using Glob\n",
    "using JSON\n",
    "using LargeScaleAnalysis\n",
    "using Missings\n",
    "using PyCall\n",
    "using PyPlot\n",
    "using Seaborn"
   ]
  },
  {
   "cell_type": "code",
   "execution_count": null,
   "metadata": {},
   "outputs": [],
   "source": [
    "DateFormatter = pyimport(\"matplotlib.dates\").DateFormatter\n",
    "DayLocator = pyimport(\"matplotlib.dates\").DayLocator\n",
    "HourLocator = pyimport(\"matplotlib.dates\").HourLocator;"
   ]
  },
  {
   "cell_type": "code",
   "execution_count": null,
   "metadata": {},
   "outputs": [],
   "source": [
    "using Dates\n",
    "function PyPlot.plot(df, model; ax = gca())\n",
    "    cmap = Seaborn.seaborn.husl_palette(model[\"n_states\"], l=0.7, s=0.9)\n",
    "    ax.plot(unix2datetime.(df.timestamp), coalesce.(df.diff, NaN))\n",
    "    for segment in model[\"segments\"]\n",
    "        span = unix2datetime.((segment[\"start_time\"], segment[\"stop_time\"]))\n",
    "        ax.axvspan(span..., alpha = 0.3, color = cmap[parse(Int, segment[\"state\"])])\n",
    "    end\n",
    "end"
   ]
  },
  {
   "cell_type": "code",
   "execution_count": null,
   "metadata": {},
   "outputs": [],
   "source": [
    "files = glob(\"*.csv\", \"/blobs/datasets/imc_2019/manic/\");"
   ]
  },
  {
   "cell_type": "code",
   "execution_count": null,
   "metadata": {},
   "outputs": [],
   "source": [
    "file = \"/blobs/datasets/imc_2019/manic/ory5-fr_194.149.163.90_149.11.115.13_174.csv\""
   ]
  },
  {
   "cell_type": "code",
   "execution_count": null,
   "metadata": {},
   "outputs": [],
   "source": [
    "df = CSV.read(file, datarow = 2, header = [\"timestamp\", \"diff\"])\n",
    "model = JSON.parsefile(\"$file.json\")\n",
    "monitor, near_ip, far_ip, asn = match(r\".*/(.+)_(.+)_(.+)_(.+)\\..+\", file).captures\n",
    "\n",
    "@pywith plt.style.context(\"classicthesis\") begin\n",
    "    fig, ax = subplots(figsize = (4.6, 0.4*4.6))\n",
    "    plot(df, model)\n",
    "    ax.set(\n",
    "        title = \"Free (AS 12322) \\$\\\\rightarrow\\$  Cogent (AS 174)\\n$(monitor) / $(near_ip) / $(far_ip)\",\n",
    "        xlim = (DateTime(2018,4,2,6), DateTime(2018,4,6,6)),\n",
    "        ylabel = \"\\$\\\\Delta\\$ RTT (ms)\"\n",
    "    )\n",
    "    ax.xaxis.set_major_formatter(DateFormatter(\"%d/%m\\n%Hh%M\"))\n",
    "    ax.xaxis.set_major_locator(HourLocator(byhour=[16]))\n",
    "    fig.savefig(\"../figures/manic-free-cogent.pdf\")\n",
    "end"
   ]
  },
  {
   "cell_type": "code",
   "execution_count": null,
   "metadata": {},
   "outputs": [],
   "source": [
    "groups = DefaultDict{String,Vector{Float64}}(() -> Float64[])\n",
    "for segment in model[\"segments\"]\n",
    "    push!(groups[segment[\"state\"]], df.diff[segment[\"start\"]+1:segment[\"stop\"]+1]...)\n",
    "end"
   ]
  },
  {
   "cell_type": "code",
   "execution_count": null,
   "metadata": {},
   "outputs": [],
   "source": [
    "@pywith plt.style.context(\"classicthesis\") begin\n",
    "    fig, ax = subplots(figsize = (4.6, 2.5))\n",
    "    cmap = Seaborn.seaborn.husl_palette(model[\"n_states\"], l=0.7, s=0.9)\n",
    "    kdeplot(groups[\"1\"], color = cmap[1], shade = true, label = \"Congestion\", ax = ax)\n",
    "    kdeplot(groups[\"3\"], color = cmap[3], shade = true, label = \"Précongestion\", ax = ax)\n",
    "    ax.set(xlabel = \"\\$\\\\Delta\\$ RTT (ms)\", ylabel = \"Densité\")\n",
    "    fig.savefig(\"../figures/manic-free-cogent-density.pdf\")\n",
    "end"
   ]
  },
  {
   "cell_type": "code",
   "execution_count": null,
   "metadata": {},
   "outputs": [],
   "source": []
  },
  {
   "cell_type": "code",
   "execution_count": null,
   "metadata": {},
   "outputs": [],
   "source": []
  }
 ],
 "metadata": {
  "kernelspec": {
   "display_name": "Julia 1.4.2",
   "language": "julia",
   "name": "julia-1.4"
  },
  "language_info": {
   "file_extension": ".jl",
   "mimetype": "application/julia",
   "name": "julia",
   "version": "1.4.2"
  }
 },
 "nbformat": 4,
 "nbformat_minor": 4
}
