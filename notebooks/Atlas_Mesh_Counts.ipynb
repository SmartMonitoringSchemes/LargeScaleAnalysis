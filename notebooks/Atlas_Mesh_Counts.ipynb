{
 "cells": [
  {
   "cell_type": "code",
   "execution_count": null,
   "metadata": {},
   "outputs": [],
   "source": [
    "using DataStructures\n",
    "using Glob\n",
    "using LargeScaleAnalysis\n",
    "using ProgressMeter\n",
    "using PyCall\n",
    "using PyPlot"
   ]
  },
  {
   "cell_type": "code",
   "execution_count": null,
   "metadata": {},
   "outputs": [],
   "source": [
    "ASNames = pyimport(\"fetchmesh.asn\").ASNames;\n",
    "asnames = Dict{Int,String}(ASNames.from_url().mapping);"
   ]
  },
  {
   "cell_type": "code",
   "execution_count": null,
   "metadata": {},
   "outputs": [],
   "source": [
    "files = glob(\"../data/traceroute_v4_1580511600_1580513400_noself_fullmesh/*.processed.json\");"
   ]
  },
  {
   "cell_type": "code",
   "execution_count": null,
   "metadata": {},
   "outputs": [],
   "source": [
    "asn_counts = DefaultDict{Int, Set{Tuple{String,String}}}(() -> Set{Tuple{String,String}}())\n",
    "ixp_counts = DefaultDict{String, Set{Tuple{String,String}}}(() -> Set{Tuple{String,String}}())\n",
    "all_pairs = Set{Tuple{String,String}}()\n",
    "@showprogress for file in files\n",
    "    records = parsefile(Vector{TracerouteRecord}, file)\n",
    "    for record in records\n",
    "        pair = (record.from, record.dst_addr)\n",
    "        push!(all_pairs, pair)\n",
    "        for hop in record.hops_asn, asn in hop\n",
    "            push!(asn_counts[asn], pair)\n",
    "        end\n",
    "        for hop in record.hops_ix, ix in hop\n",
    "            push!(ixp_counts[ix], pair)\n",
    "        end\n",
    "    end\n",
    "end"
   ]
  },
  {
   "cell_type": "code",
   "execution_count": null,
   "metadata": {},
   "outputs": [],
   "source": [
    "asn_counts = sort([(k, length(v)) for (k, v) in asn_counts], by = x -> x[2], rev = true);"
   ]
  },
  {
   "cell_type": "code",
   "execution_count": null,
   "metadata": {},
   "outputs": [],
   "source": [
    "ixp_counts = sort([(k, length(v)) for (k, v) in ixp_counts], by = x -> x[2], rev = true);"
   ]
  },
  {
   "cell_type": "code",
   "execution_count": null,
   "metadata": {},
   "outputs": [],
   "source": [
    "[(asn, asnames[asn], count, count / length(all_pairs) * 100) for (asn, count) in asn_counts[1:10]]"
   ]
  },
  {
   "cell_type": "code",
   "execution_count": null,
   "metadata": {},
   "outputs": [],
   "source": [
    "[(ixp, count, count / length(all_pairs) * 100) for (ixp, count) in ixp_counts[1:10]]"
   ]
  },
  {
   "cell_type": "code",
   "execution_count": null,
   "metadata": {},
   "outputs": [],
   "source": [
    "filter(x -> x[2] >= 1000, asn_counts)"
   ]
  },
  {
   "cell_type": "code",
   "execution_count": null,
   "metadata": {},
   "outputs": [],
   "source": [
    "filter(x -> x[2] >= 1000, ixp_counts)"
   ]
  },
  {
   "cell_type": "code",
   "execution_count": null,
   "metadata": {},
   "outputs": [],
   "source": []
  }
 ],
 "metadata": {
  "kernelspec": {
   "display_name": "Julia 1.4.0",
   "language": "julia",
   "name": "julia-1.4"
  },
  "language_info": {
   "file_extension": ".jl",
   "mimetype": "application/julia",
   "name": "julia",
   "version": "1.4.0"
  }
 },
 "nbformat": 4,
 "nbformat_minor": 4
}
