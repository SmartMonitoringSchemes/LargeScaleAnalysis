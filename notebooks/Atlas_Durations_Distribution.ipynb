{
 "cells": [
  {
   "cell_type": "markdown",
   "metadata": {},
   "source": [
    "## Distribution des temps de séjour\n",
    "Do the distributions of the (renormalized) average durations follows an exponential distribution ?"
   ]
  },
  {
   "cell_type": "code",
   "execution_count": null,
   "metadata": {},
   "outputs": [],
   "source": [
    "using Distributions\n",
    "using Glob\n",
    "using LargeScaleAnalysis\n",
    "using PyPlot"
   ]
  },
  {
   "cell_type": "code",
   "execution_count": null,
   "metadata": {},
   "outputs": [],
   "source": [
    "include(\"../../ParsimoniousMonitoring/notebooks/thesis.jl\")"
   ]
  },
  {
   "cell_type": "code",
   "execution_count": null,
   "metadata": {},
   "outputs": [],
   "source": [
    "files = glob(\"*ndjson.model.json\", \"../data/ping_v4_1580511600_1581116400_noself_pairs/\");\n",
    "models = map(x -> parsefile(DataSegmentationModel, x), files);"
   ]
  },
  {
   "cell_type": "code",
   "execution_count": null,
   "metadata": {},
   "outputs": [],
   "source": [
    "durations = []\n",
    "for model in models\n",
    "    groups = group(segments(model))\n",
    "    for (state, segments) in groups\n",
    "        durations_ = length.(segments)\n",
    "        push!(durations, (durations_ / mean(durations_))...)\n",
    "    end\n",
    "end"
   ]
  },
  {
   "cell_type": "code",
   "execution_count": null,
   "metadata": {},
   "outputs": [],
   "source": [
    "supp = 0:0.01:1\n",
    "quant_tho = quantile.(Exponential(1), supp)\n",
    "quant_obs = map(x -> quantile(durations, x), supp);"
   ]
  },
  {
   "cell_type": "code",
   "execution_count": null,
   "metadata": {},
   "outputs": [],
   "source": [
    "fig, ax = subplots()\n",
    "ax.scatter(quant_tho, quant_obs)\n",
    "ax.plot([0, 5], [0, 5], label = L\"$y = x$\")\n",
    "ax.set(xlim = (0, 5), ylim = (0, 5), xlabel = \"Quantiles théoriques Exp(1)\", ylabel = \"Quantiles observés\")\n",
    "ax.grid()\n",
    "save_thesis(\"atlas_durations_qq\")"
   ]
  },
  {
   "cell_type": "code",
   "execution_count": null,
   "metadata": {},
   "outputs": [],
   "source": []
  }
 ],
 "metadata": {
  "kernelspec": {
   "display_name": "Julia 1.4.0",
   "language": "julia",
   "name": "julia-1.4"
  },
  "language_info": {
   "file_extension": ".jl",
   "mimetype": "application/julia",
   "name": "julia",
   "version": "1.4.0"
  }
 },
 "nbformat": 4,
 "nbformat_minor": 4
}
