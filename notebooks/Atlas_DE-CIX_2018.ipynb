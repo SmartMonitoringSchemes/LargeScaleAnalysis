{
 "cells": [
  {
   "cell_type": "markdown",
   "metadata": {},
   "source": [
    "## Study of DE-CIX Frankfurt outage on the 9-10th of April 2018"
   ]
  },
  {
   "cell_type": "code",
   "execution_count": null,
   "metadata": {},
   "outputs": [],
   "source": [
    "using Dates\n",
    "using Glob\n",
    "using LargeScaleAnalysis\n",
    "using PyCall\n",
    "using PyPlot"
   ]
  },
  {
   "cell_type": "code",
   "execution_count": null,
   "metadata": {},
   "outputs": [],
   "source": [
    "# We use pandas since it has a more timeseries functions\n",
    "# than DataFrames.jl and TimeSeries.jl.\n",
    "pd = pyimport(\"pandas\")\n",
    "DateFormatter = pyimport(\"matplotlib.dates\").DateFormatter\n",
    "HourLocator = pyimport(\"matplotlib.dates\").HourLocator;"
   ]
  },
  {
   "cell_type": "code",
   "execution_count": null,
   "metadata": {},
   "outputs": [],
   "source": [
    "include(\"../../ParsimoniousMonitoring/notebooks/thesis.jl\")\n",
    "# tikzplotlib is not working very well with dates, so we use a mpl style.\n",
    "plt.rc(\"figure\", dpi = 120)\n",
    "plt.style.use(\"classicthesis\");"
   ]
  },
  {
   "cell_type": "markdown",
   "metadata": {},
   "source": [
    "### Main"
   ]
  },
  {
   "cell_type": "code",
   "execution_count": null,
   "metadata": {},
   "outputs": [],
   "source": [
    "files = glob(\"*ndjson.model.json\", \"/blobs/datasets/thesis/decix_2018-04-09_11/\");\n",
    "models = map(x -> parsefile(DataSegmentationModel, x), files);\n",
    "length(models)"
   ]
  },
  {
   "cell_type": "code",
   "execution_count": null,
   "metadata": {},
   "outputs": [],
   "source": [
    "timestamps = map(x -> x.time, Iterators.flatten(changepoints.(models)));\n",
    "datetimes = unix2datetime.(timestamps);"
   ]
  },
  {
   "cell_type": "code",
   "execution_count": null,
   "metadata": {},
   "outputs": [],
   "source": [
    "df = pd.DataFrame(Dict(:timestamp => timestamps), index = datetimes)\n",
    "df.head()"
   ]
  },
  {
   "cell_type": "code",
   "execution_count": null,
   "metadata": {},
   "outputs": [],
   "source": [
    "fig, ax = subplots(figsize = (4.6, 2))\n",
    "ax.plot(df.resample(\"360s\").count())\n",
    "ax.axvspan(DateTime(2018,4,9,19,30), DateTime(2018,4,9,19,50), alpha = 0.35, color = colorblindmap[3], lw = 0, label = \"Incident DE-CIX \\\\#1\")\n",
    "ax.axvspan(DateTime(2018,4,9,23,15), DateTime(2018,4,9,23,45), alpha = 0.35, color = colorblindmap[3], lw = 0)\n",
    "ax.axvspan(DateTime(2018,4,10,2,0), DateTime(2018,4,10,2,20), alpha = 0.35, color = colorblindmap[4], lw = 0, label = \"Incident DE-CIX \\\\#2\")\n",
    "ax.axvspan(DateTime(2018,4,10,3,35), DateTime(2018,4,10,4,10), alpha = 0.35, color = colorblindmap[4], lw = 0)\n",
    "ax.xaxis.set_major_formatter(DateFormatter(\"%d/%m\\n%Hh%M\"))\n",
    "ax.xaxis.set_major_locator(HourLocator(byhour=[0,6,12,18]))\n",
    "ax.set(xlabel = \"UTC+0 (GMT)\", ylabel = \"Changements / 360s\")\n",
    "ax.set_xlim(xmin = DateTime(2018,4,9,6))\n",
    "ax.grid()\n",
    "ax.legend(loc = \"upper right\", fancybox = false)\n",
    "plt.savefig(\"../figures/atlas-changefreq-de-cix.pdf\")"
   ]
  },
  {
   "cell_type": "code",
   "execution_count": null,
   "metadata": {},
   "outputs": [],
   "source": []
  },
  {
   "cell_type": "code",
   "execution_count": null,
   "metadata": {},
   "outputs": [],
   "source": []
  }
 ],
 "metadata": {
  "kernelspec": {
   "display_name": "Julia 1.5.0",
   "language": "julia",
   "name": "julia-1.5"
  },
  "language_info": {
   "file_extension": ".jl",
   "mimetype": "application/julia",
   "name": "julia",
   "version": "1.5.0"
  }
 },
 "nbformat": 4,
 "nbformat_minor": 4
}
