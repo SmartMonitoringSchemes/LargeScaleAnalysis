{
 "cells": [
  {
   "cell_type": "code",
   "execution_count": null,
   "metadata": {},
   "outputs": [],
   "source": [
    "using HTTP\n",
    "using JSON\n",
    "using LargeScaleAnalysis\n",
    "using PyCall\n",
    "using PyPlot\n",
    "using ThesisTools"
   ]
  },
  {
   "cell_type": "markdown",
   "metadata": {},
   "source": [
    "### Helpers"
   ]
  },
  {
   "cell_type": "code",
   "execution_count": null,
   "metadata": {},
   "outputs": [],
   "source": [
    "DateFormatter = pyimport(\"matplotlib.dates\").DateFormatter\n",
    "HourLocator = pyimport(\"matplotlib.dates\").HourLocator;"
   ]
  },
  {
   "cell_type": "code",
   "execution_count": null,
   "metadata": {},
   "outputs": [],
   "source": [
    "using Dates\n",
    "function PyPlot.plot(index, data, state; ax = gca())\n",
    "    cmap = Dict(i => plt.cm.tab20(i) for i in sort(unique(state)))\n",
    "    ax.plot(unix2datetime.(index), coalesce.(data, NaN))\n",
    "    segs = map(s -> maprange(s, index), segments(state, closed = true))\n",
    "    for segment in segs\n",
    "        span = unix2datetime.((segment.range.start, segment.range.stop))\n",
    "        ax.axvspan(span..., alpha = 0.3, color = cmap[segment.state])\n",
    "    end\n",
    "end"
   ]
  },
  {
   "cell_type": "code",
   "execution_count": null,
   "metadata": {},
   "outputs": [],
   "source": [
    "function fetch_json(url)\n",
    "    r = HTTP.get(url)\n",
    "    JSON.parse(String(r.body))\n",
    "end"
   ]
  },
  {
   "cell_type": "markdown",
   "metadata": {},
   "source": [
    "### Main"
   ]
  },
  {
   "cell_type": "code",
   "execution_count": null,
   "metadata": {},
   "outputs": [],
   "source": [
    "res = fetch_json(\"https://trends.atlas.ripe.net/api/v1/trends/1437285/6222/?start=2018-05-02&stop=2018-05-10\");"
   ]
  },
  {
   "cell_type": "code",
   "execution_count": null,
   "metadata": {},
   "outputs": [],
   "source": [
    "index = map(x -> x[4], res[\"results\"])\n",
    "data = map(x -> x[5] > 0 ? x[5] : missing, res[\"results\"])\n",
    "state = map(x -> x[7], res[\"results\"]);"
   ]
  },
  {
   "cell_type": "code",
   "execution_count": null,
   "metadata": {},
   "outputs": [],
   "source": [
    "@pywith plt.style.context(\"classicthesis\") begin\n",
    "    fig, ax = subplots(figsize = (4.6, 0.35*4.6))\n",
    "    plot(index, data, state, ax = ax)\n",
    "    ax.set(yticks = [100,150,200], ylabel = \"RTT (ms)\", title = \"at-vie-as1120 \\$\\\\leftrightarrow\\$ us-bos-as26167\")\n",
    "    ax.xaxis.set_major_formatter(DateFormatter(\"%d/%m\\n%Hh%M\"))\n",
    "    fig.savefig(\"../figures/atlas-api-example.pdf\")\n",
    "end"
   ]
  },
  {
   "cell_type": "code",
   "execution_count": null,
   "metadata": {},
   "outputs": [],
   "source": []
  },
  {
   "cell_type": "code",
   "execution_count": null,
   "metadata": {},
   "outputs": [],
   "source": []
  },
  {
   "cell_type": "code",
   "execution_count": null,
   "metadata": {},
   "outputs": [],
   "source": []
  }
 ],
 "metadata": {
  "kernelspec": {
   "display_name": "Julia 1.5.0",
   "language": "julia",
   "name": "julia-1.5"
  },
  "language_info": {
   "file_extension": ".jl",
   "mimetype": "application/julia",
   "name": "julia",
   "version": "1.5.0"
  }
 },
 "nbformat": 4,
 "nbformat_minor": 4
}
