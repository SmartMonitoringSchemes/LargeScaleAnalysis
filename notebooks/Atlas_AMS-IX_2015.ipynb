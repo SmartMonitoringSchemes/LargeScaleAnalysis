{
 "cells": [
  {
   "cell_type": "markdown",
   "metadata": {},
   "source": [
    "## Study of AMS-IX outage on the 13th of May 2015"
   ]
  },
  {
   "cell_type": "code",
   "execution_count": null,
   "metadata": {},
   "outputs": [],
   "source": [
    "using Dates\n",
    "using Glob\n",
    "using LargeScaleAnalysis\n",
    "using PyCall\n",
    "using PyPlot"
   ]
  },
  {
   "cell_type": "code",
   "execution_count": null,
   "metadata": {},
   "outputs": [],
   "source": [
    "# We use pandas since it has a more timeseries functions\n",
    "# than DataFrames.jl and TimeSeries.jl.\n",
    "pd = pyimport(\"pandas\")\n",
    "DateFormatter = pyimport(\"matplotlib.dates\").DateFormatter\n",
    "HourLocator = pyimport(\"matplotlib.dates\").HourLocator;"
   ]
  },
  {
   "cell_type": "code",
   "execution_count": null,
   "metadata": {},
   "outputs": [],
   "source": [
    "include(\"../../ParsimoniousMonitoring/notebooks/thesis.jl\")\n",
    "# tikzplotlib is not working very well with dates, so we use a mpl style.\n",
    "plt.rc(\"figure\", dpi = 120)\n",
    "plt.style.use(\"classicthesis\");"
   ]
  },
  {
   "cell_type": "markdown",
   "metadata": {},
   "source": [
    "### Main"
   ]
  },
  {
   "cell_type": "markdown",
   "metadata": {},
   "source": [
    "> The information we received from AMS-IX is that the primary cause of the event lasted for seven minutes and two seconds, from 2015-05-13T12:22:12+02:00 to 2015-05-13T12:29:14+02:00. This was the interval from a switch interface starting to generate looped traffic until the backbone interface of the switch was shut down, which immediately stopped the disruptive traffic from being propagated."
   ]
  },
  {
   "cell_type": "code",
   "execution_count": null,
   "metadata": {},
   "outputs": [],
   "source": [
    "EVENT_BEGIN = DateTime(2015, 5, 13, 10, 22, 12)\n",
    "EVENT_END = DateTime(2015, 5, 13, 10, 29, 14);"
   ]
  },
  {
   "cell_type": "code",
   "execution_count": null,
   "metadata": {},
   "outputs": [],
   "source": [
    "files = glob(\"*ndjson.model.json\", \"/blobs/datasets/thesis/2015-05-13.amsix/pairs\");\n",
    "models = map(x -> parsefile(DataSegmentationModel, x), files);\n",
    "length(models)"
   ]
  },
  {
   "cell_type": "code",
   "execution_count": null,
   "metadata": {},
   "outputs": [],
   "source": [
    "timestamps = map(x -> x.time, Iterators.flatten(changepoints.(models)));\n",
    "datetimes = unix2datetime.(timestamps);"
   ]
  },
  {
   "cell_type": "code",
   "execution_count": null,
   "metadata": {},
   "outputs": [],
   "source": [
    "df = pd.DataFrame(Dict(:timestamp => timestamps), index = datetimes)\n",
    "df.head()"
   ]
  },
  {
   "cell_type": "code",
   "execution_count": null,
   "metadata": {},
   "outputs": [],
   "source": [
    "fig, ax = subplots(figsize = (4.6, 2))\n",
    "ax.plot(df.resample(\"360s\").count())\n",
    "ax.axvspan(EVENT_BEGIN, EVENT_END, alpha = 0.35, color = colorblindmap[3], lw = 0, label = \"Incident AMS-IX\")\n",
    "ax.axvspan(\n",
    "    DateTime(2015,5,13,15,45),\n",
    "    DateTime(2015,5,13,16,0),\n",
    "    color = colorblindmap[4],\n",
    "    alpha = 0.35,\n",
    "    label = \"Incident DNS-A\",\n",
    "    lw = 0\n",
    ")\n",
    "ax.xaxis.set_major_formatter(DateFormatter(\"%d/%m\\n%Hh%M\"))\n",
    "ax.xaxis.set_major_locator(HourLocator(byhour=[2,6,10,14,18,22]))\n",
    "ax.set(xlabel = \"UTC+0 (GMT)\", ylabel = \"Changements / 360s\")\n",
    "ax.grid()\n",
    "ax.legend(loc = \"upper left\", fancybox = false)\n",
    "plt.savefig(\"../figures/atlas-changefreq-ams-ix.pdf\")"
   ]
  },
  {
   "cell_type": "code",
   "execution_count": null,
   "metadata": {},
   "outputs": [],
   "source": []
  }
 ],
 "metadata": {
  "kernelspec": {
   "display_name": "Julia 1.5.0",
   "language": "julia",
   "name": "julia-1.5"
  },
  "language_info": {
   "file_extension": ".jl",
   "mimetype": "application/julia",
   "name": "julia",
   "version": "1.5.0"
  }
 },
 "nbformat": 4,
 "nbformat_minor": 4
}
