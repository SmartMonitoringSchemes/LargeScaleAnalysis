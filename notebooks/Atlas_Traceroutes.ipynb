{
 "cells": [
  {
   "cell_type": "code",
   "execution_count": null,
   "metadata": {},
   "outputs": [],
   "source": [
    "using Glob\n",
    "using JSON\n",
    "using LargeScaleAnalysis\n",
    "using ProgressMeter\n",
    "using PyCall\n",
    "using PyPlot\n",
    "using Statistics\n",
    "using StatsBase"
   ]
  },
  {
   "cell_type": "code",
   "execution_count": null,
   "metadata": {},
   "outputs": [],
   "source": [
    "include(\"../../ParsimoniousMonitoring/notebooks/thesis.jl\")"
   ]
  },
  {
   "cell_type": "markdown",
   "metadata": {},
   "source": [
    "### Helpers"
   ]
  },
  {
   "cell_type": "code",
   "execution_count": null,
   "metadata": {},
   "outputs": [],
   "source": [
    "mesh = parsefile(AnchoringMesh, \"../data/mesh_20200520.json\")\n",
    "ping_traceroute = measurement_mapping(mesh, 4, \"ping\", \"traceroute\");"
   ]
  },
  {
   "cell_type": "code",
   "execution_count": null,
   "metadata": {},
   "outputs": [],
   "source": [
    "parsename(f) = map(x -> parse(Int, x), match(r\"/?(\\d+)_(\\d+)\\.\", f).captures);"
   ]
  },
  {
   "cell_type": "code",
   "execution_count": null,
   "metadata": {},
   "outputs": [],
   "source": [
    "function measurement_pairs(d1, d2)\n",
    "    pairs = []\n",
    "    for file in glob(\"*.ndjson\", d1)\n",
    "        msm_id, prb_id = parsename(file)\n",
    "        if !haskey(ping_traceroute, msm_id)\n",
    "            print(\"#$(msm_id) \")\n",
    "            continue\n",
    "        end\n",
    "        new = replace(basename(file), string(msm_id) => string(ping_traceroute[msm_id]))\n",
    "        push!(pairs, (file, joinpath(d2, new)))\n",
    "    end\n",
    "    pairs\n",
    "end;"
   ]
  },
  {
   "cell_type": "markdown",
   "metadata": {},
   "source": [
    "### Traceroutes"
   ]
  },
  {
   "cell_type": "code",
   "execution_count": null,
   "metadata": {},
   "outputs": [],
   "source": [
    "# How many AS paths are associated to a given state?\n",
    "# Cas extreme => 1 nouvel etats par timestep = exactement 1 AS/IP path par état\n",
    "# How many states are associated to a given AS path?\n",
    "# Cas extreme => 1 seul etat pour toute la serie = exactement 1 etat par AS/IP path\n",
    "# => On veut que ces deux conditions soit le plus rapproche (= bonne segmentation)\n",
    "# TODO: 3 levels : IP, router (alias resolution), AS"
   ]
  },
  {
   "cell_type": "code",
   "execution_count": null,
   "metadata": {},
   "outputs": [],
   "source": [
    "# ping_traceroute_pairs = measurement_pairs(\n",
    "#     \"/blobs/datasets/thesis/ping_v4_1580511600_1581116400_noself_pairs/\",\n",
    "#     \"/blobs/datasets/thesis/traceroute_v4_1580511600_1581116400_noself_pairs/\"\n",
    "# );"
   ]
  },
  {
   "cell_type": "code",
   "execution_count": null,
   "metadata": {},
   "outputs": [],
   "source": [
    "ping_traceroute_pairs = measurement_pairs(\n",
    "    \"/blobs/datasets/thesis/ping_v4_1580511600_1581116400_01_pairs/\",\n",
    "    \"/blobs/datasets/thesis/traceroute_v4_1580511600_1581118200_01_pairs/\"\n",
    ");"
   ]
  },
  {
   "cell_type": "markdown",
   "metadata": {},
   "source": [
    "#### IP Path"
   ]
  },
  {
   "cell_type": "code",
   "execution_count": null,
   "metadata": {},
   "outputs": [],
   "source": [
    "counts_ab = Int[]\n",
    "counts_ba = Int[]\n",
    "@showprogress for (ping_file, traceroute_file) in ping_traceroute_pairs\n",
    "    try\n",
    "        ping_file = \"$(ping_file).model.json\"\n",
    "        traceroute_file = \"$(splitext(traceroute_file)[1]).processed.json\"\n",
    "\n",
    "        model = parsefile(DataSegmentationModel, ping_file)\n",
    "        traceroute = parsefile(Vector{TracerouteRecord}, traceroute_file)\n",
    "\n",
    "        ping_segments = segments(model)\n",
    "        traceroute_segments = segments(labelize(traceroute))\n",
    "\n",
    "        res1 = map(x -> length(x), values(reduce(bidirectional_mapping(ping_segments, traceroute_segments)[1])))\n",
    "        res2 = map(x -> length(x), values(reduce(bidirectional_mapping(ping_segments, traceroute_segments)[2])))\n",
    "        push!(counts_ab, res1...)\n",
    "        push!(counts_ba, res2...)\n",
    "    catch e\n",
    "        !(e isa SystemError) && raise(e)\n",
    "        # println(e.prefix)\n",
    "    end\n",
    "end"
   ]
  },
  {
   "cell_type": "code",
   "execution_count": null,
   "metadata": {},
   "outputs": [],
   "source": [
    "fig, axs = subplots(ncols = 2, figsize = (8, 3))\n",
    "\n",
    "d = counts(counts_ab, maximum(counts_ab))\n",
    "# d *= 100 / sum(d)\n",
    "\n",
    "axs[1].bar(1:length(d), d)\n",
    "axs[1].set_xlim(xmax = 18.5)\n",
    "axs[1].set_title(L\"Nombre d'états\\\\associés à $x$ chemins IP\")\n",
    "axs[1].grid()\n",
    "\n",
    "d = counts(counts_ba, maximum(counts_ba))\n",
    "# d *= 100 / sum(d)\n",
    "\n",
    "axs[2].bar(1:length(d), d)\n",
    "axs[2].set_xlim(xmax = 12)\n",
    "axs[2].set_title(L\"Nombre de chemins IP\\\\associés à $x$ états\")\n",
    "axs[2].grid()\n",
    "\n",
    "save_thesis(\"atlas_state_ip_mapping\", axw = raw\"0.5\\linewidth\", axh = \"6cm\", extra_axis_params=[\"align=center\"])"
   ]
  },
  {
   "cell_type": "code",
   "execution_count": null,
   "metadata": {},
   "outputs": [],
   "source": [
    "# mean(counts_ab), mean(counts_ba)"
   ]
  },
  {
   "cell_type": "markdown",
   "metadata": {},
   "source": [
    "#### AS Path"
   ]
  },
  {
   "cell_type": "code",
   "execution_count": null,
   "metadata": {},
   "outputs": [],
   "source": [
    "counts_ab = Int[]\n",
    "counts_ba = Int[]\n",
    "@showprogress for (ping_file, traceroute_file) in ping_traceroute_pairs\n",
    "    try\n",
    "        ping_file = \"$(ping_file).model.json\"\n",
    "        traceroute_file = \"$(splitext(traceroute_file)[1]).processed.json\"\n",
    "\n",
    "        model = parsefile(DataSegmentationModel, ping_file)\n",
    "        traceroute = parsefile(Vector{TracerouteRecord}, traceroute_file)\n",
    "\n",
    "        ping_segments = segments(model)\n",
    "        traceroute_segments = segments(labelize(traceroute, :hops_asn))\n",
    "\n",
    "        res1 = map(x -> length(x), values(reduce(bidirectional_mapping(ping_segments, traceroute_segments)[1])))\n",
    "        res2 = map(x -> length(x), values(reduce(bidirectional_mapping(ping_segments, traceroute_segments)[2])))\n",
    "        push!(counts_ab, res1...)\n",
    "        push!(counts_ba, res2...)\n",
    "    catch e\n",
    "        !(e isa SystemError) && raise(e)\n",
    "        # println(e.prefix)\n",
    "    end\n",
    "end"
   ]
  },
  {
   "cell_type": "code",
   "execution_count": null,
   "metadata": {},
   "outputs": [],
   "source": [
    "fig, axs = subplots(ncols = 2, figsize = (8, 3))\n",
    "\n",
    "d = counts(counts_ab, maximum(counts_ab))\n",
    "# d *= 100 / sum(d)\n",
    "\n",
    "axs[1].bar(1:length(d), d)\n",
    "axs[1].set_xlim(xmax = 18.5)\n",
    "axs[1].set_title(L\"Nombre d'états\\\\associés à $x$ chemins AS\")\n",
    "axs[1].grid()\n",
    "\n",
    "d = counts(counts_ba, maximum(counts_ba))\n",
    "# d *= 100 / sum(d)\n",
    "\n",
    "axs[2].bar(1:length(d), d)\n",
    "axs[2].set_xlim(xmax = 12)\n",
    "axs[2].set_title(L\"Nombre de chemins AS\\\\associés à $x$ états\")\n",
    "axs[2].grid()\n",
    "\n",
    "save_thesis(\"atlas_state_as_mapping\", axw = raw\"0.5\\linewidth\", axh = \"6cm\", extra_axis_params=[\"align=center\"])"
   ]
  },
  {
   "cell_type": "code",
   "execution_count": null,
   "metadata": {},
   "outputs": [],
   "source": [
    "mean(counts_ab), mean(counts_ba)"
   ]
  },
  {
   "cell_type": "code",
   "execution_count": null,
   "metadata": {},
   "outputs": [],
   "source": [
    "# Hypothese: qd. congestion un changement de chemin IP cause un changement de delai significatif ?\n",
    "# (decongestion)\n",
    "# Qd. un état associé à plusieurs chemins, la variance du délai dans cet état devrait être faible ?"
   ]
  },
  {
   "cell_type": "markdown",
   "metadata": {},
   "source": [
    "### Plots"
   ]
  },
  {
   "cell_type": "code",
   "execution_count": null,
   "metadata": {},
   "outputs": [],
   "source": [
    "using Dates\n",
    "function PyPlot.plot(model::DataSegmentationModel; ax = gca())\n",
    "    cmap = Dict(i => plt.cm.tab20(i) for i in sort(unique(model.state)))\n",
    "    ax.plot(unix2datetime.(model.index), coalesce.(model.data, NaN))\n",
    "    for segment in segments(model, closed = true)\n",
    "        span = unix2datetime.((segment.range.start, segment.range.stop))\n",
    "        ax.axvspan(span..., alpha = 0.3, color = cmap[segment.state])\n",
    "    end\n",
    "end"
   ]
  },
  {
   "cell_type": "code",
   "execution_count": null,
   "metadata": {},
   "outputs": [],
   "source": [
    "@show idx = rand(1:length(ping_traceroute_pairs))\n",
    "@show ping_file, traceroute_file = ping_traceroute_pairs[idx]\n",
    "ping_file = \"$(ping_file).model.json\"\n",
    "traceroute_file = \"$(splitext(traceroute_file)[1]).processed.json\"\n",
    "model = parsefile(DataSegmentationModel, ping_file)\n",
    "traceroute = parsefile(Vector{TracerouteRecord}, traceroute_file)\n",
    "\n",
    "fig, axs = subplots(nrows = 2, figsize = (10, 4))\n",
    "plot(model, ax = axs[1])\n",
    "\n",
    "for segment in segments(labelize(traceroute, :hops), closed = true)\n",
    "    axs[2].axvspan(segment.range.start, segment.range.stop, color = plt.cm.tab20(segment.state))\n",
    "end"
   ]
  },
  {
   "cell_type": "code",
   "execution_count": null,
   "metadata": {},
   "outputs": [],
   "source": [
    "# Montrer qu'on a une bonne correspondance sur cette trace.\n",
    "# (ping_file, traceroute_file) = ping_traceroute_pairs[idx] = (\"/blobs/datasets/thesis/ping_v4_1580511600_1581116400_01_pairs/1402085_6624.ndjson\", \"/blobs/datasets/thesis/traceroute_v4_1580511600_1581118200_01_pairs/1402084_6624.ndjson\")"
   ]
  },
  {
   "cell_type": "code",
   "execution_count": null,
   "metadata": {},
   "outputs": [],
   "source": [
    "# (ping_file, traceroute_file) = ping_traceroute_pairs[idx] = (\"/blobs/datasets/thesis/ping_v4_1580511600_1581116400_01_pairs/17661127_6381.ndjson\", \"/blobs/datasets/thesis/traceroute_v4_1580511600_1581118200_01_pairs/17661126_6381.ndjson\")"
   ]
  },
  {
   "cell_type": "code",
   "execution_count": null,
   "metadata": {},
   "outputs": [],
   "source": [
    "d = labelize(traceroute, :hops_asn);"
   ]
  },
  {
   "cell_type": "code",
   "execution_count": null,
   "metadata": {},
   "outputs": [],
   "source": [
    "segs = segments(d.label, closed = true)"
   ]
  },
  {
   "cell_type": "code",
   "execution_count": null,
   "metadata": {},
   "outputs": [],
   "source": [
    "d.data[segs[1]][1].hops_asn"
   ]
  },
  {
   "cell_type": "code",
   "execution_count": null,
   "metadata": {},
   "outputs": [],
   "source": [
    "d.data[segs[2]][1].hops_asn"
   ]
  },
  {
   "cell_type": "code",
   "execution_count": null,
   "metadata": {},
   "outputs": [],
   "source": [
    "labelize(traceroute, :hops_asn).data[1].hops_asn"
   ]
  },
  {
   "cell_type": "code",
   "execution_count": null,
   "metadata": {},
   "outputs": [],
   "source": [
    "labelize(traceroute, :hops_asn).data[4].hops_asn"
   ]
  },
  {
   "cell_type": "code",
   "execution_count": null,
   "metadata": {},
   "outputs": [],
   "source": []
  }
 ],
 "metadata": {
  "kernelspec": {
   "display_name": "Julia 1.4.0",
   "language": "julia",
   "name": "julia-1.4"
  },
  "language_info": {
   "file_extension": ".jl",
   "mimetype": "application/julia",
   "name": "julia",
   "version": "1.4.0"
  }
 },
 "nbformat": 4,
 "nbformat_minor": 4
}
