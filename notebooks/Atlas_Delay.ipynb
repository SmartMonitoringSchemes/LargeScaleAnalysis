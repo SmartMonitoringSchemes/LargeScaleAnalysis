{
 "cells": [
  {
   "cell_type": "code",
   "execution_count": null,
   "metadata": {},
   "outputs": [],
   "source": [
    "using Glob\n",
    "using JSON\n",
    "using LargeScaleAnalysis\n",
    "using ProgressMeter\n",
    "using PyPlot\n",
    "using Statistics\n",
    "using StatsBase"
   ]
  },
  {
   "cell_type": "code",
   "execution_count": null,
   "metadata": {},
   "outputs": [],
   "source": [
    "include(\"../../ParsimoniousMonitoring/notebooks/thesis.jl\")"
   ]
  },
  {
   "cell_type": "markdown",
   "metadata": {},
   "source": [
    "### Analysis of self measurements"
   ]
  },
  {
   "cell_type": "code",
   "execution_count": null,
   "metadata": {},
   "outputs": [],
   "source": [
    "files = glob(\"*.model.json\", \"../data/ping_v4_1580511600_1581116400_self_pairs/\");"
   ]
  },
  {
   "cell_type": "code",
   "execution_count": null,
   "metadata": {},
   "outputs": [],
   "source": [
    "models = map(x -> parsefile(DataSegmentationModel, x), files);"
   ]
  },
  {
   "cell_type": "code",
   "execution_count": null,
   "metadata": {},
   "outputs": [],
   "source": [
    "nstates = map(x -> size(x.model, 1), models);"
   ]
  },
  {
   "cell_type": "code",
   "execution_count": null,
   "metadata": {},
   "outputs": [],
   "source": [
    "nstatesdist = counts(nstates, maximum(nstates))\n",
    "bar(1:length(nstatesdist), nstatesdist);"
   ]
  },
  {
   "cell_type": "code",
   "execution_count": null,
   "metadata": {},
   "outputs": [],
   "source": [
    "# TODO: Check in traceroute that there is no \"spurious\" hops"
   ]
  },
  {
   "cell_type": "code",
   "execution_count": null,
   "metadata": {},
   "outputs": [],
   "source": [
    "for m in models[nstates .>= 4]\n",
    "    figure(figsize = (12,2))\n",
    "    plot(coalesce.(m.data, NaN))\n",
    "end"
   ]
  },
  {
   "cell_type": "markdown",
   "metadata": {},
   "source": [
    "### Analysis of non-self measurements"
   ]
  },
  {
   "cell_type": "code",
   "execution_count": null,
   "metadata": {},
   "outputs": [],
   "source": [
    "# TODO: Re-do analysis with 10% of the pairs instead of 1%.\n",
    "# TODO: ACF insides the states?"
   ]
  },
  {
   "cell_type": "code",
   "execution_count": null,
   "metadata": {},
   "outputs": [],
   "source": [
    "# TODO: Number of states vs. number of hops ?\n",
    "# TODO: Comparer modeles appris sur 1 et 3 jours vs. les sous-sequences\n",
    "# de 1 et 3 jours sur un modele appris sur 7 jours (est-ce que ca match ?)."
   ]
  },
  {
   "cell_type": "code",
   "execution_count": null,
   "metadata": {},
   "outputs": [],
   "source": [
    "files = glob(\"*ndjson.model.json\", \"../data/ping_v4_1580511600_1581116400_noself_pairs/\");\n",
    "files_1d = glob(\"*ndjson_360.model.json\", \"../data/ping_v4_1580511600_1581116400_noself_pairs/\");\n",
    "files_3d = glob(\"*ndjson_1080.model.json\", \"../data/ping_v4_1580511600_1581116400_noself_pairs/\");\n",
    "files_14d = glob(\"*ndjson.model.json\", \"../data/ping_v4_1580511600_1581721200_noself_pairs/\");"
   ]
  },
  {
   "cell_type": "code",
   "execution_count": null,
   "metadata": {},
   "outputs": [],
   "source": [
    "models = map(x -> parsefile(DataSegmentationModel, x), files);\n",
    "models_1d = map(x -> parsefile(DataSegmentationModel, x), files_1d);\n",
    "models_3d = map(x -> parsefile(DataSegmentationModel, x), files_3d);\n",
    "models_14d = map(x -> parsefile(DataSegmentationModel, x), files_14d);"
   ]
  },
  {
   "cell_type": "code",
   "execution_count": null,
   "metadata": {},
   "outputs": [],
   "source": [
    "nstates = map(x -> size(x.model, 1), models);\n",
    "nstates_1d = map(x -> size(x.model, 1), models_1d);\n",
    "nstates_3d = map(x -> size(x.model, 1), models_3d);\n",
    "nstates_14d = map(x -> size(x.model, 1), models_14d);"
   ]
  },
  {
   "cell_type": "code",
   "execution_count": null,
   "metadata": {},
   "outputs": [],
   "source": [
    "fig, ax = subplots()\n",
    "ax.boxplot([nstates_1d, nstates_3d, nstates, nstates_14d], labels = [\"1 jour\", \"3 jours\", \"7 jours\", \"14 jours\"], showfliers = false)\n",
    "ax.set(ylabel = \"Nombre d'états\", ylim = (0, 17))\n",
    "ax.grid(axis = \"x\")\n",
    "save_thesis(\"atlas_nstates_dist_boxplot\", hwr = 0.5, extra_axis_params = [\"xtick={1,2,3,4}\", \"xticklabels={1 jour, 3 jours, 7 jours, 14 jours}\"])"
   ]
  },
  {
   "cell_type": "code",
   "execution_count": null,
   "metadata": {},
   "outputs": [],
   "source": [
    "# Verifier si pour une series donnee le nombre d'etats augmente toujours avec le temps.\n",
    "# Chercher les series pour lesquelles le nombre d'etats entre 7 et 14 jours change peu/change beaucoup."
   ]
  },
  {
   "cell_type": "markdown",
   "metadata": {},
   "source": [
    "#### Relation CV / durée"
   ]
  },
  {
   "cell_type": "code",
   "execution_count": null,
   "metadata": {},
   "outputs": [],
   "source": [
    "files = glob(\"*ndjson.model.json\", \"../data/ping_v4_1580511600_1581116400_01_pairs/\");\n",
    "models = map(x -> parsefile(DataSegmentationModel, x), files);"
   ]
  },
  {
   "cell_type": "code",
   "execution_count": null,
   "metadata": {},
   "outputs": [],
   "source": [
    "# Compute avg. durations by states\n",
    "durations, stds = [], []\n",
    "# for model in models_14d\n",
    "for model in models\n",
    "    for (state, segments) in group(segments(model.state))\n",
    "        data = model.data[segments]\n",
    "        push!(durations, mean(length, segments))\n",
    "        push!(stds, std(skipmissing(data)) / mean(skipmissing(data)))\n",
    "    end\n",
    "end\n",
    "\n",
    "durations = durations[isfinite.(stds)]\n",
    "stds = stds[isfinite.(stds)];"
   ]
  },
  {
   "cell_type": "code",
   "execution_count": null,
   "metadata": {},
   "outputs": [],
   "source": [
    "maximum(stds)"
   ]
  },
  {
   "cell_type": "code",
   "execution_count": null,
   "metadata": {},
   "outputs": [],
   "source": [
    "# Δ = 500\n",
    "# groups = []\n",
    "# for i in 1:Δ:5000\n",
    "#     indices = (durations .>= i) .& (durations .< i+Δ)\n",
    "#     push!(groups, stds[indices])\n",
    "# end;"
   ]
  },
  {
   "cell_type": "code",
   "execution_count": null,
   "metadata": {},
   "outputs": [],
   "source": [
    "Δ = 0.2\n",
    "I = []\n",
    "groups = []\n",
    "for i in 0:Δ:2\n",
    "    indices = (stds .>= i) .& (stds .< i+Δ)\n",
    "    if sum(indices) <= 10\n",
    "        break\n",
    "    end\n",
    "    push!(I, i + Δ)\n",
    "    push!(groups, durations[indices])\n",
    "end;"
   ]
  },
  {
   "cell_type": "code",
   "execution_count": null,
   "metadata": {},
   "outputs": [],
   "source": [
    "median(durations[stds .> 0.2]), median(durations[stds .< 0.2])"
   ]
  },
  {
   "cell_type": "code",
   "execution_count": null,
   "metadata": {},
   "outputs": [],
   "source": [
    "fig, ax = subplots()\n",
    "labels = map(x -> round(x, digits = 2), I)\n",
    "ax.boxplot(groups, labels = labels, showfliers = false)\n",
    "ax.set(xlabel = \"Coefficient de variation\", ylabel = \"Durée moyenne (minutes)\", ylim = (-10, 310))\n",
    "ax.grid(axis = \"x\")\n",
    "save_thesis(\"atlas_cv_duration_boxplot\", hwr = 0.5, extra_axis_params = [\"xtick={$(join(1:length(labels), \",\"))}\", \"xticklabels={$(join(labels, \", \"))}\"])"
   ]
  },
  {
   "cell_type": "code",
   "execution_count": null,
   "metadata": {},
   "outputs": [],
   "source": [
    "safe(f) = try f(); catch NaN; end"
   ]
  },
  {
   "cell_type": "code",
   "execution_count": null,
   "metadata": {},
   "outputs": [],
   "source": [
    "plot(collect(0:Δ:1), map(median, groups))\n",
    "plot(collect(0:Δ:1), map(x -> percentile(x, 25), groups))\n",
    "plot(collect(0:Δ:1), map(x -> percentile(x, 75), groups))\n",
    "# xlim(-2, 200)"
   ]
  },
  {
   "cell_type": "code",
   "execution_count": null,
   "metadata": {},
   "outputs": [],
   "source": [
    "# using Seaborn\n",
    "# fig, ax = subplots()\n",
    "# kdeplot(log.(durations), log.(stds), ax = ax, shade=true)\n",
    "# # ax.set_xscale(\"log\")\n",
    "# # ax.set_yscale(\"log\")"
   ]
  },
  {
   "cell_type": "code",
   "execution_count": null,
   "metadata": {},
   "outputs": [],
   "source": []
  }
 ],
 "metadata": {
  "kernelspec": {
   "display_name": "Julia 1.4.0",
   "language": "julia",
   "name": "julia-1.4"
  },
  "language_info": {
   "file_extension": ".jl",
   "mimetype": "application/julia",
   "name": "julia",
   "version": "1.4.0"
  }
 },
 "nbformat": 4,
 "nbformat_minor": 4
}
