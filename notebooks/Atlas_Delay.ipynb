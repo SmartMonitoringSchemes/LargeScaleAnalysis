{
 "cells": [
  {
   "cell_type": "code",
   "execution_count": null,
   "metadata": {},
   "outputs": [],
   "source": [
    "using Glob\n",
    "using JSON\n",
    "using LargeScaleAnalysis\n",
    "using ProgressMeter\n",
    "using PyCall\n",
    "using PyPlot\n",
    "using Statistics\n",
    "using StatsBase"
   ]
  },
  {
   "cell_type": "code",
   "execution_count": null,
   "metadata": {},
   "outputs": [],
   "source": [
    "include(\"../../ParsimoniousMonitoring/notebooks/thesis.jl\")"
   ]
  },
  {
   "cell_type": "markdown",
   "metadata": {},
   "source": [
    "### Analysis of self measurements"
   ]
  },
  {
   "cell_type": "code",
   "execution_count": null,
   "metadata": {},
   "outputs": [],
   "source": [
    "files = glob(\"*.model.json\", \"../data/ping_v4_1580511600_1581116400_self_pairs/\");"
   ]
  },
  {
   "cell_type": "code",
   "execution_count": null,
   "metadata": {},
   "outputs": [],
   "source": [
    "models = map(x -> parsefile(DataSegmentationModel, x), files);"
   ]
  },
  {
   "cell_type": "code",
   "execution_count": null,
   "metadata": {},
   "outputs": [],
   "source": [
    "nstates = map(x -> size(x.model, 1), models);"
   ]
  },
  {
   "cell_type": "code",
   "execution_count": null,
   "metadata": {},
   "outputs": [],
   "source": [
    "nstatesdist = counts(nstates, maximum(nstates))\n",
    "bar(1:length(nstatesdist), nstatesdist);"
   ]
  },
  {
   "cell_type": "code",
   "execution_count": null,
   "metadata": {},
   "outputs": [],
   "source": [
    "# TODO: Check in traceroute that there is no \"spurious\" hops"
   ]
  },
  {
   "cell_type": "code",
   "execution_count": null,
   "metadata": {},
   "outputs": [],
   "source": [
    "for m in models[nstates .>= 4]\n",
    "    figure(figsize = (12,2))\n",
    "    plot(coalesce.(m.data, NaN))\n",
    "end"
   ]
  },
  {
   "cell_type": "markdown",
   "metadata": {},
   "source": [
    "### Analysis of non-self measurements"
   ]
  },
  {
   "cell_type": "code",
   "execution_count": null,
   "metadata": {},
   "outputs": [],
   "source": [
    "# TODO: Re-do analysis with 10% of the pairs instead of 1%.\n",
    "# TODO: ACF insides the states?"
   ]
  },
  {
   "cell_type": "code",
   "execution_count": null,
   "metadata": {},
   "outputs": [],
   "source": [
    "# TODO: Number of states vs. number of hops ?\n",
    "# TODO: Comparer modeles appris sur 1 et 3 jours vs. les sous-sequences\n",
    "# de 1 et 3 jours sur un modele appris sur 7 jours (est-ce que ca match ?)."
   ]
  },
  {
   "cell_type": "code",
   "execution_count": null,
   "metadata": {},
   "outputs": [],
   "source": [
    "files = glob(\"*ndjson.model.json\", \"../data/ping_v4_1580511600_1581116400_noself_pairs/\");\n",
    "files_L20 = glob(\"*ndjson.model.json\", \"../data/ping_v4_1580511600_1581116400_noself_pairs_L20/\");\n",
    "files_1d = glob(\"*ndjson_360.model.json\", \"../data/ping_v4_1580511600_1581116400_noself_pairs/\");\n",
    "files_3d = glob(\"*ndjson_1080.model.json\", \"../data/ping_v4_1580511600_1581116400_noself_pairs/\");\n",
    "files_14d = glob(\"*ndjson.model.json\", \"../data/ping_v4_1580511600_1581721200_noself_pairs/\");"
   ]
  },
  {
   "cell_type": "code",
   "execution_count": null,
   "metadata": {},
   "outputs": [],
   "source": [
    "models = map(x -> parsefile(DataSegmentationModel, x), files);\n",
    "models_L20 = map(x -> parsefile(DataSegmentationModel, x), files_L20);\n",
    "models_1d = map(x -> parsefile(DataSegmentationModel, x), files_1d);\n",
    "models_3d = map(x -> parsefile(DataSegmentationModel, x), files_3d);\n",
    "models_14d = map(x -> parsefile(DataSegmentationModel, x), files_14d);"
   ]
  },
  {
   "cell_type": "code",
   "execution_count": null,
   "metadata": {},
   "outputs": [],
   "source": [
    "nstates = map(x -> size(x.model, 1), models);\n",
    "nstates_L20 = map(x -> size(x.model, 1), models_L20);\n",
    "nstates_1d = map(x -> size(x.model, 1), models_1d);\n",
    "nstates_3d = map(x -> size(x.model, 1), models_3d);\n",
    "nstates_14d = map(x -> size(x.model, 1), models_14d);"
   ]
  },
  {
   "cell_type": "code",
   "execution_count": null,
   "metadata": {},
   "outputs": [],
   "source": [
    "fig, ax = subplots()\n",
    "ax.boxplot([nstates, nstates_L20])\n",
    "ax.set(ylabel = \"Nombre d'états\", ylim = (0, 20))"
   ]
  },
  {
   "cell_type": "code",
   "execution_count": null,
   "metadata": {},
   "outputs": [],
   "source": [
    "mean.([nstates, nstates_L20])"
   ]
  },
  {
   "cell_type": "code",
   "execution_count": null,
   "metadata": {},
   "outputs": [],
   "source": [
    "median.([nstates, nstates_L20])"
   ]
  },
  {
   "cell_type": "code",
   "execution_count": null,
   "metadata": {},
   "outputs": [],
   "source": [
    "fig, ax = subplots()\n",
    "ax.boxplot([nstates_1d, nstates_3d, nstates, nstates_14d], labels = [\"1 jour\", \"3 jours\", \"7 jours\", \"14 jours\"], whis = (0, 100))\n",
    "ax.set(ylabel = \"Nombre d'états\", ylim = (0, 20))\n",
    "save_thesis(\"atlas_nstates_dist_boxplot\", hwr = 0.75, extra_axis_params = [\"xtick={1,2,3,4}\", \"xticklabels={1 jour, 3 jours, 7 jours, 14 jours}\"])"
   ]
  },
  {
   "cell_type": "code",
   "execution_count": null,
   "metadata": {},
   "outputs": [],
   "source": [
    "# Verifier si pour une series donnee le nombre d'etats augmente toujours avec le temps.\n",
    "# Chercher les series pour lesquelles le nombre d'etats entre 7 et 14 jours change peu/change beaucoup."
   ]
  },
  {
   "cell_type": "code",
   "execution_count": null,
   "metadata": {},
   "outputs": [],
   "source": [
    "nstatesdist = counts(nstates, 20)\n",
    "bar(1:20, nstatesdist);\n",
    "# save_thesis(\"test\")"
   ]
  },
  {
   "cell_type": "code",
   "execution_count": null,
   "metadata": {},
   "outputs": [],
   "source": [
    "nstatesdist = counts(nstates_14d, 20)\n",
    "bar(1:20, nstatesdist);\n",
    "# save_thesis(\"test\")"
   ]
  },
  {
   "cell_type": "code",
   "execution_count": null,
   "metadata": {},
   "outputs": [],
   "source": [
    "nstatesdist = counts(nstates_1d, 15)\n",
    "bar(1:15, nstatesdist);"
   ]
  },
  {
   "cell_type": "code",
   "execution_count": null,
   "metadata": {},
   "outputs": [],
   "source": [
    "# Compute avg. durations by states\n",
    "durations, stds = [], []\n",
    "for model in models\n",
    "    for (state, segments) in group(segments(model.state))\n",
    "        data = model.data[segments]\n",
    "        push!(durations, mean(length, segments))\n",
    "        push!(stds, std(skipmissing(data)))\n",
    "    end\n",
    "end"
   ]
  },
  {
   "cell_type": "code",
   "execution_count": null,
   "metadata": {},
   "outputs": [],
   "source": [
    "# fig, ax = subplots()\n",
    "# ax.scatter(durations, stds, alpha = 0.1)\n",
    "# ax.set_xscale(\"log\")\n",
    "# ax.set_yscale(\"log\")"
   ]
  },
  {
   "cell_type": "markdown",
   "metadata": {},
   "source": [
    "#### Traceroutes"
   ]
  },
  {
   "cell_type": "code",
   "execution_count": null,
   "metadata": {},
   "outputs": [],
   "source": [
    "# How many AS paths are associated to a given state?\n",
    "# Cas extreme => 1 nouvel etats par timestep = exactement 1 AS/IP path par état\n",
    "# How many states are associated to a given AS path?\n",
    "# Cas extreme => 1 seul etat pour toute la serie = exactement 1 etat par AS/IP path\n",
    "# => On veut que ces deux conditions soit le plus rapproche (= bonne segmentation)\n",
    "# TODO: 3 levels : IP, router (alias resolution), AS"
   ]
  },
  {
   "cell_type": "code",
   "execution_count": null,
   "metadata": {},
   "outputs": [],
   "source": [
    "ping_traceroute_pairs = measurement_pairs(\n",
    "    \"../data/ping_v4_1580511600_1581116400_noself_pairs/\",\n",
    "    \"../data/traceroute_v4_1580511600_1581116400_noself_pairs/\"\n",
    ");"
   ]
  },
  {
   "cell_type": "code",
   "execution_count": null,
   "metadata": {},
   "outputs": [],
   "source": [
    "counts_ab = Int[]\n",
    "counts_ba = Int[]\n",
    "@showprogress for (ping_file, traceroute_file) in ping_traceroute_pairs\n",
    "    try\n",
    "        ping_file = \"$(ping_file).model.json\"\n",
    "        traceroute_file = \"$(splitext(traceroute_file)[1]).processed.json\"\n",
    "\n",
    "        model = parsefile(DataSegmentationModel, ping_file)\n",
    "        traceroute = parsefile(Vector{TracerouteRecord}, traceroute_file)\n",
    "\n",
    "        ping_segments = segments(model)\n",
    "        traceroute_segments = segments(labelize(traceroute))\n",
    "\n",
    "        res1 = map(x -> length(x), values(reduce(bidirectional_mapping(ping_segments, traceroute_segments)[1])))\n",
    "        res2 = map(x -> length(x), values(reduce(bidirectional_mapping(ping_segments, traceroute_segments)[2])))\n",
    "        push!(counts_ab, res1...)\n",
    "        push!(counts_ba, res2...)\n",
    "    catch e\n",
    "        !(e isa SystemError) && raise(e)\n",
    "        println(e.prefix)\n",
    "    end\n",
    "end"
   ]
  },
  {
   "cell_type": "code",
   "execution_count": null,
   "metadata": {},
   "outputs": [],
   "source": []
  },
  {
   "cell_type": "code",
   "execution_count": null,
   "metadata": {},
   "outputs": [],
   "source": [
    "d = counts(counts_ab, maximum(counts_ab))\n",
    "bar(1:length(d), d);\n",
    "xlim(1, 25)"
   ]
  },
  {
   "cell_type": "code",
   "execution_count": null,
   "metadata": {},
   "outputs": [],
   "source": [
    "d = counts(counts_ba, maximum(counts_ba))\n",
    "bar(1:length(d), d);"
   ]
  },
  {
   "cell_type": "code",
   "execution_count": null,
   "metadata": {},
   "outputs": [],
   "source": []
  },
  {
   "cell_type": "code",
   "execution_count": null,
   "metadata": {},
   "outputs": [],
   "source": [
    "d = counts(counts_ab, maximum(counts_ab))\n",
    "bar(1:length(d), d);\n",
    "xlim(1, 25)"
   ]
  },
  {
   "cell_type": "code",
   "execution_count": null,
   "metadata": {},
   "outputs": [],
   "source": [
    "d = counts(counts_ba, maximum(counts_ba))\n",
    "bar(1:length(d), d);"
   ]
  },
  {
   "cell_type": "code",
   "execution_count": null,
   "metadata": {},
   "outputs": [],
   "source": [
    "mean(counts_ab)"
   ]
  },
  {
   "cell_type": "code",
   "execution_count": null,
   "metadata": {},
   "outputs": [],
   "source": [
    "mean(counts_ba)"
   ]
  },
  {
   "cell_type": "code",
   "execution_count": null,
   "metadata": {},
   "outputs": [],
   "source": [
    "ping_file, traceroute_file = ping_traceroute_pairs[1]\n",
    "traceroute = TracerouteRecord.(load_traceroute(traceroute_file, asntree))[1].hops"
   ]
  },
  {
   "cell_type": "code",
   "execution_count": null,
   "metadata": {},
   "outputs": [],
   "source": []
  }
 ],
 "metadata": {
  "kernelspec": {
   "display_name": "Julia 1.4.0",
   "language": "julia",
   "name": "julia-1.4"
  },
  "language_info": {
   "file_extension": ".jl",
   "mimetype": "application/julia",
   "name": "julia",
   "version": "1.4.0"
  }
 },
 "nbformat": 4,
 "nbformat_minor": 4
}
