{
 "cells": [
  {
   "cell_type": "code",
   "execution_count": null,
   "metadata": {},
   "outputs": [],
   "source": [
    "using CSV\n",
    "using DataFrames\n",
    "using JSON\n",
    "using LargeScaleAnalysis\n",
    "using Missings\n",
    "using PyCall\n",
    "using PyPlot"
   ]
  },
  {
   "cell_type": "code",
   "execution_count": null,
   "metadata": {},
   "outputs": [],
   "source": [
    "DateFormatter = pyimport(\"matplotlib.dates\").DateFormatter\n",
    "DayLocator = pyimport(\"matplotlib.dates\").DayLocator;"
   ]
  },
  {
   "cell_type": "code",
   "execution_count": null,
   "metadata": {},
   "outputs": [],
   "source": [
    "using Dates\n",
    "function PyPlot.plot(df, model; ax = gca())\n",
    "    cmap = Dict(string(i) => plt.cm.tab20(i) for i in 1:model[\"n_states\"])\n",
    "    ax.plot(unix2datetime.(df.timestamp), coalesce.(df.PLT, NaN))\n",
    "    for segment in model[\"segments\"]\n",
    "        span = unix2datetime.((segment[\"start_time\"], segment[\"stop_time\"]))\n",
    "        ax.axvspan(span..., alpha = 0.3, color = cmap[segment[\"state\"]])\n",
    "    end\n",
    "end"
   ]
  },
  {
   "cell_type": "code",
   "execution_count": null,
   "metadata": {},
   "outputs": [],
   "source": [
    "df = CSV.read(\"/blobs/datasets/thesis/0001_0001_0.0.0.0_0.0.0.0.csv\")\n",
    "model = JSON.parsefile(\"/blobs/datasets/thesis/0001_0001_0.0.0.0_0.0.0.0.csv.json\");"
   ]
  },
  {
   "cell_type": "code",
   "execution_count": null,
   "metadata": {},
   "outputs": [],
   "source": [
    "@pywith plt.style.context(\"classicthesis\") begin\n",
    "    fig, ax = subplots(figsize = (4.6, 0.4*4.6))\n",
    "    plot(df, model, ax = ax)\n",
    "    ax.set(ylabel = \"Page Load Time (s)\", title = \"baidu.com\\nFibre Orange, Chrome v63, HTTP/2\")\n",
    "    ax.xaxis.set_major_formatter(DateFormatter(\"%b\\n%Y\"))\n",
    "    ax.xaxis.set_major_locator(DayLocator(15))\n",
    "    fig.savefig(\"../figures/webview-baidu.pdf\")\n",
    "end"
   ]
  },
  {
   "cell_type": "code",
   "execution_count": null,
   "metadata": {},
   "outputs": [],
   "source": []
  },
  {
   "cell_type": "code",
   "execution_count": null,
   "metadata": {},
   "outputs": [],
   "source": []
  }
 ],
 "metadata": {
  "kernelspec": {
   "display_name": "Julia 1.5.0",
   "language": "julia",
   "name": "julia-1.5"
  },
  "language_info": {
   "file_extension": ".jl",
   "mimetype": "application/julia",
   "name": "julia",
   "version": "1.5.0"
  }
 },
 "nbformat": 4,
 "nbformat_minor": 4
}
